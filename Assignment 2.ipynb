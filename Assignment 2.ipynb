{
 "cells": [
  {
   "cell_type": "markdown",
   "metadata": {},
   "source": [
    "1.\tWrite a Python function that takes a list and returns a new list with unique elements of the first list. Go to the editor\n",
    "        Sample List : [1,2,2,2,4,4,4,4,5,6,6,6,6,3,4,5]\n",
    "        Unique List : [1, 2, 3, 4, 6,5]\n"
   ]
  },
  {
   "cell_type": "code",
   "execution_count": 29,
   "metadata": {},
   "outputs": [],
   "source": [
    "def takelist(a):\n",
    "    print('input ='+str(a))\n",
    "    return sorted(list(set(a)))"
   ]
  },
  {
   "cell_type": "code",
   "execution_count": 30,
   "metadata": {},
   "outputs": [
    {
     "name": "stdout",
     "output_type": "stream",
     "text": [
      "Enter No5\n",
      "6\n",
      "6\n",
      "2\n",
      "1\n",
      "1\n",
      "input =['6', '6', '2', '1', '1']\n"
     ]
    },
    {
     "data": {
      "text/plain": [
       "['1', '2', '6']"
      ]
     },
     "execution_count": 30,
     "metadata": {},
     "output_type": "execute_result"
    }
   ],
   "source": [
    "takelist([input() for i in range(int(input('Enter No')))])"
   ]
  },
  {
   "cell_type": "markdown",
   "metadata": {},
   "source": [
    "2.\tWrite a Python function that takes a number as a parameter and check the number is prime or not. Note : A prime number (or a prime) is a natural number greater than 1 and that has no positive divisors other than 1 and itself."
   ]
  },
  {
   "cell_type": "code",
   "execution_count": 33,
   "metadata": {},
   "outputs": [],
   "source": [
    "def primecheck(a):\n",
    "    if (a==1):\n",
    "        print('{} is Prime no'.format(a))\n",
    "    else:\n",
    "        c=0\n",
    "        for i in range(2,a//2+1):\n",
    "            if(a%i==0):\n",
    "                c=1\n",
    "                print(i)\n",
    "                break\n",
    "        if c!=0:\n",
    "            print('{} is Not a Prime no'.format(a))\n",
    "        else:\n",
    "            print('{} is Prime no'.format(a))"
   ]
  },
  {
   "cell_type": "code",
   "execution_count": 34,
   "metadata": {},
   "outputs": [
    {
     "name": "stdout",
     "output_type": "stream",
     "text": [
      "Enter Number4\n",
      "2\n",
      "4 is Not a Prime no\n"
     ]
    }
   ],
   "source": [
    "primecheck(int(input('Enter Number')))"
   ]
  },
  {
   "cell_type": "markdown",
   "metadata": {},
   "source": [
    "3.\tWrite a Python function that checks whether a passed string is palindrome or not."
   ]
  },
  {
   "cell_type": "code",
   "execution_count": 1,
   "metadata": {},
   "outputs": [],
   "source": [
    "def palindromcheck(a):\n",
    "    if(a==a[::-1]):\n",
    "        print('{} is palindrom'.format(a))\n",
    "    else:\n",
    "        print('{} is not palindrom'.format(a))"
   ]
  },
  {
   "cell_type": "code",
   "execution_count": 5,
   "metadata": {},
   "outputs": [
    {
     "name": "stdout",
     "output_type": "stream",
     "text": [
      "Enter the word for palindrom checklal\n",
      "lal is palindrom\n"
     ]
    }
   ],
   "source": [
    "palindromcheck(input('Enter the word for palindrom check'))"
   ]
  },
  {
   "cell_type": "markdown",
   "metadata": {},
   "source": [
    "4.\tWrite a Python function to multiply all the numbers in a list.\n",
    "Sample List : (8, 2, 3, -1, 7)\n",
    "Expected Output : -336\n"
   ]
  },
  {
   "cell_type": "code",
   "execution_count": 7,
   "metadata": {},
   "outputs": [
    {
     "name": "stdout",
     "output_type": "stream",
     "text": [
      "Enter no 5\n",
      "8\n",
      "2\n",
      "3\n",
      "-1\n",
      "7\n"
     ]
    },
    {
     "data": {
      "text/plain": [
       "-336"
      ]
     },
     "execution_count": 7,
     "metadata": {},
     "output_type": "execute_result"
    }
   ],
   "source": [
    "def multiplylist(a):\n",
    "    result=1\n",
    "    for i in range(len(a)):\n",
    "        result=result*a[i]\n",
    "    return result\n",
    "\n",
    "multiplylist([int(input()) for i in range(int(input('Enter no ')))])"
   ]
  },
  {
   "cell_type": "markdown",
   "metadata": {},
   "source": [
    "5.\tWrite a function that inputs a number and prints the multiplication table of that number"
   ]
  },
  {
   "cell_type": "code",
   "execution_count": 13,
   "metadata": {},
   "outputs": [],
   "source": [
    "def multable(a):\n",
    "    for i in range(1,11):\n",
    "        print('{}*{}={}'.format(i,a,i*a))"
   ]
  },
  {
   "cell_type": "code",
   "execution_count": 15,
   "metadata": {},
   "outputs": [
    {
     "name": "stdout",
     "output_type": "stream",
     "text": [
      "Enter the no 25\n",
      "1*25=25\n",
      "2*25=50\n",
      "3*25=75\n",
      "4*25=100\n",
      "5*25=125\n",
      "6*25=150\n",
      "7*25=175\n",
      "8*25=200\n",
      "9*25=225\n",
      "10*25=250\n"
     ]
    }
   ],
   "source": [
    "multable(int(input('Enter the no ')))"
   ]
  },
  {
   "cell_type": "markdown",
   "metadata": {},
   "source": [
    "6.\tWrite a program to print twin primes less than 1000. If two consecutive odd numbers are both prime then they are known as twin primes"
   ]
  },
  {
   "cell_type": "code",
   "execution_count": 50,
   "metadata": {},
   "outputs": [
    {
     "name": "stdout",
     "output_type": "stream",
     "text": [
      "(3,5) (5,7) (11,13) (17,19) (29,31) (41,43) (59,61) (71,73) (101,103) (107,109) (137,139) (149,151) (179,181) (191,193) (197,199) (227,229) (239,241) (269,271) (281,283) (311,313) (347,349) (419,421) (431,433) (461,463) (521,523) (569,571) (599,601) (617,619) (641,643) (659,661) (809,811) (821,823) (827,829) (857,859) (881,883) "
     ]
    }
   ],
   "source": [
    "def twinprime():\n",
    "    for i in range(3,1001):\n",
    "        c=0\n",
    "        for j in range(2,i//2):\n",
    "            if(i%j==0):\n",
    "                c=1\n",
    "                break\n",
    "        if(c==0):\n",
    "            d=0\n",
    "            consecnum=i+2\n",
    "            for k in range(2,consecnum//2):\n",
    "                if(consecnum%k==0):\n",
    "                    d=1\n",
    "                    break\n",
    "            if(d==0):\n",
    "                print('({},{})'.format(i,consecnum),end=' ')\n",
    "\n",
    "twinprime()"
   ]
  },
  {
   "cell_type": "markdown",
   "metadata": {},
   "source": [
    "7.\t Write a program to implement these formulae of permutations and combinations. Number of permutations of n objects taken r at a time: p(n, r) = n! / (n-r)!. Number of combinations of n objects taken r at a time is: c(n, r) = n! / (r!*(n-r)!) = p(n,r) / r!"
   ]
  },
  {
   "cell_type": "code",
   "execution_count": 60,
   "metadata": {},
   "outputs": [
    {
     "name": "stdout",
     "output_type": "stream",
     "text": [
      "Enter the value for n 5\n",
      "Enter the value for r 2\n",
      "Permutation 20.0\n",
      "Enter the value for n 5\n",
      "Enter the value for r 2\n",
      "combination 10.0\n"
     ]
    }
   ],
   "source": [
    "def factorial(a):\n",
    "    result=1\n",
    "    for i in range(1,a+1):\n",
    "        result = result*i\n",
    "    return result\n",
    "\n",
    "def permutation(n,r):\n",
    "    return factorial(n)/factorial(n-r)\n",
    "\n",
    "def combination(n,r):\n",
    "    return permutation(n,r)/factorial(r)\n",
    "\n",
    "print('Permutation {}'.format(permutation(int(input('Enter the value for n ')),int(input('Enter the value for r ')))))\n",
    "print('combination {}'.format(combination(int(input('Enter the value for n ')),int(input('Enter the value for r ')))))"
   ]
  },
  {
   "cell_type": "markdown",
   "metadata": {},
   "source": [
    "8.\tWrite a function that converts a decimal number to binary number"
   ]
  },
  {
   "cell_type": "code",
   "execution_count": 62,
   "metadata": {},
   "outputs": [
    {
     "name": "stdout",
     "output_type": "stream",
     "text": [
      "Enter decimal no 5\n",
      "Binary of 5 is 101\n"
     ]
    }
   ],
   "source": [
    "def decbin(a):\n",
    "    print('Binary of {} is {:b}'.format(a,a))\n",
    "\n",
    "decbin(int(input('Enter decimal no ')))"
   ]
  },
  {
   "cell_type": "markdown",
   "metadata": {},
   "source": []
  },
  {
   "cell_type": "markdown",
   "metadata": {},
   "source": [
    "9.\tWrite a Python program to access a function inside a function"
   ]
  },
  {
   "cell_type": "code",
   "execution_count": null,
   "metadata": {},
   "outputs": [],
   "source": [
    "def factorial(a):\n",
    "    result=1\n",
    "    for i in range(1,a+1):\n",
    "        result = result*i\n",
    "    return result\n",
    "\n",
    "def permutation(n,r):\n",
    "    return factorial(n)/factorial(n-r)\n",
    "\n",
    "def combination(n,r):\n",
    "    return permutation(n,r)/factorial(r)\n",
    "\n",
    "print('combination {}'.format(combination(int(input('Enter the value for n ')),int(input('Enter the value for r ')))))"
   ]
  },
  {
   "cell_type": "markdown",
   "metadata": {},
   "source": [
    "Write a function which call input dynamics using input function and print the statement as “I love data science “"
   ]
  },
  {
   "cell_type": "code",
   "execution_count": 61,
   "metadata": {},
   "outputs": [
    {
     "name": "stdout",
     "output_type": "stream",
     "text": [
      "Enter sentence I love data science\n",
      "I love data science\n"
     ]
    }
   ],
   "source": [
    "def printing(a):\n",
    "    print(a)\n",
    "\n",
    "printing(input('Enter sentence '))"
   ]
  },
  {
   "cell_type": "code",
   "execution_count": null,
   "metadata": {},
   "outputs": [],
   "source": []
  }
 ],
 "metadata": {
  "kernelspec": {
   "display_name": "Python 3",
   "language": "python",
   "name": "python3"
  },
  "language_info": {
   "codemirror_mode": {
    "name": "ipython",
    "version": 3
   },
   "file_extension": ".py",
   "mimetype": "text/x-python",
   "name": "python",
   "nbconvert_exporter": "python",
   "pygments_lexer": "ipython3",
   "version": "3.7.4"
  }
 },
 "nbformat": 4,
 "nbformat_minor": 2
}
